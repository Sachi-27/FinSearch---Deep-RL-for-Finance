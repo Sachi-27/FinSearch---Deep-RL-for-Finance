{
 "cells": [
  {
   "cell_type": "code",
   "execution_count": 37,
   "metadata": {},
   "outputs": [],
   "source": [
    "import numpy as np\n",
    "import pandas as pd\n",
    "import matplotlib.pyplot as plt\n",
    "import yfinance as yf"
   ]
  },
  {
   "cell_type": "code",
   "execution_count": 23,
   "metadata": {},
   "outputs": [
    {
     "name": "stdout",
     "output_type": "stream",
     "text": [
      "[*********************100%%**********************]  1 of 1 completed\n",
      "Data collection and saving complete.\n"
     ]
    }
   ],
   "source": [
    "# nifty50_stocks = [\n",
    "#     \"RELIANCE.NS\" , \"TCS.NS\", \"HDFCBANK.NS\",  # ... Add other stock symbols here\n",
    "#     # List of all NIFTY50 stocks: https://www1.nseindia.com/live_market/dynaContent/live_watch/equities_stock_watch.htm\n",
    "# ]\n",
    "\n",
    "start_date = \"2010-01-01\"\n",
    "end_date = \"2018-12-31\"\n",
    "\n",
    "stock_data = pd.DataFrame()\n",
    "\n",
    "# download LNT stock price data\n",
    "stock_data = yf.download(\"LT.NS\", start=start_date, end=end_date)\n",
    "stock_data.to_csv('lnt_stock_data.csv', index=False)\n",
    "\n",
    "# download RELIANCE stock price data\n",
    "\n",
    "# stock_data = yf.download(\"RELIANCE.NS\", start=start_date, end=end_date)\n",
    "# stock_data.to_csv('reliance_stock_data.csv', index=False)\n",
    "\n",
    "print(\"Data collection and saving complete.\")"
   ]
  },
  {
   "cell_type": "code",
   "execution_count": 38,
   "metadata": {},
   "outputs": [
    {
     "data": {
      "text/html": [
       "<div>\n",
       "<style scoped>\n",
       "    .dataframe tbody tr th:only-of-type {\n",
       "        vertical-align: middle;\n",
       "    }\n",
       "\n",
       "    .dataframe tbody tr th {\n",
       "        vertical-align: top;\n",
       "    }\n",
       "\n",
       "    .dataframe thead th {\n",
       "        text-align: right;\n",
       "    }\n",
       "</style>\n",
       "<table border=\"1\" class=\"dataframe\">\n",
       "  <thead>\n",
       "    <tr style=\"text-align: right;\">\n",
       "      <th></th>\n",
       "      <th>Close</th>\n",
       "    </tr>\n",
       "  </thead>\n",
       "  <tbody>\n",
       "    <tr>\n",
       "      <th>0</th>\n",
       "      <td>751.733337</td>\n",
       "    </tr>\n",
       "    <tr>\n",
       "      <th>1</th>\n",
       "      <td>753.066650</td>\n",
       "    </tr>\n",
       "    <tr>\n",
       "      <th>2</th>\n",
       "      <td>744.733337</td>\n",
       "    </tr>\n",
       "    <tr>\n",
       "      <th>3</th>\n",
       "      <td>741.155579</td>\n",
       "    </tr>\n",
       "    <tr>\n",
       "      <th>4</th>\n",
       "      <td>745.844421</td>\n",
       "    </tr>\n",
       "  </tbody>\n",
       "</table>\n",
       "</div>"
      ],
      "text/plain": [
       "        Close\n",
       "0  751.733337\n",
       "1  753.066650\n",
       "2  744.733337\n",
       "3  741.155579\n",
       "4  745.844421"
      ]
     },
     "execution_count": 38,
     "metadata": {},
     "output_type": "execute_result"
    }
   ],
   "source": [
    "# Read the data from the csv file, read only the column named Close\n",
    "stock_data = pd.read_csv(\"lnt_stock_data.csv\")[[\"Close\"]]\n",
    "stock_data.head()"
   ]
  },
  {
   "cell_type": "code",
   "execution_count": 39,
   "metadata": {},
   "outputs": [
    {
     "data": {
      "text/html": [
       "<div>\n",
       "<style scoped>\n",
       "    .dataframe tbody tr th:only-of-type {\n",
       "        vertical-align: middle;\n",
       "    }\n",
       "\n",
       "    .dataframe tbody tr th {\n",
       "        vertical-align: top;\n",
       "    }\n",
       "\n",
       "    .dataframe thead th {\n",
       "        text-align: right;\n",
       "    }\n",
       "</style>\n",
       "<table border=\"1\" class=\"dataframe\">\n",
       "  <thead>\n",
       "    <tr style=\"text-align: right;\">\n",
       "      <th></th>\n",
       "      <th>Close</th>\n",
       "    </tr>\n",
       "  </thead>\n",
       "  <tbody>\n",
       "    <tr>\n",
       "      <th>count</th>\n",
       "      <td>2218.000000</td>\n",
       "    </tr>\n",
       "    <tr>\n",
       "      <th>mean</th>\n",
       "      <td>901.464703</td>\n",
       "    </tr>\n",
       "    <tr>\n",
       "      <th>std</th>\n",
       "      <td>248.912473</td>\n",
       "    </tr>\n",
       "    <tr>\n",
       "      <th>min</th>\n",
       "      <td>434.533325</td>\n",
       "    </tr>\n",
       "    <tr>\n",
       "      <th>25%</th>\n",
       "      <td>693.183350</td>\n",
       "    </tr>\n",
       "    <tr>\n",
       "      <th>50%</th>\n",
       "      <td>869.311127</td>\n",
       "    </tr>\n",
       "    <tr>\n",
       "      <th>75%</th>\n",
       "      <td>1113.549988</td>\n",
       "    </tr>\n",
       "    <tr>\n",
       "      <th>max</th>\n",
       "      <td>1455.599976</td>\n",
       "    </tr>\n",
       "  </tbody>\n",
       "</table>\n",
       "</div>"
      ],
      "text/plain": [
       "             Close\n",
       "count  2218.000000\n",
       "mean    901.464703\n",
       "std     248.912473\n",
       "min     434.533325\n",
       "25%     693.183350\n",
       "50%     869.311127\n",
       "75%    1113.549988\n",
       "max    1455.599976"
      ]
     },
     "execution_count": 39,
     "metadata": {},
     "output_type": "execute_result"
    }
   ],
   "source": [
    "stock_data.describe()"
   ]
  },
  {
   "cell_type": "code",
   "execution_count": 40,
   "metadata": {},
   "outputs": [
    {
     "data": {
      "text/plain": [
       "(1996, 222)"
      ]
     },
     "execution_count": 40,
     "metadata": {},
     "output_type": "execute_result"
    }
   ],
   "source": [
    "# Divide into 90% training and 10% testing\n",
    "training_stock_data = stock_data[:int(len(stock_data)*0.9)].values\n",
    "testing_stock_data = stock_data[int(len(stock_data)*0.9):].values\n",
    "\n",
    "len(training_stock_data), len(testing_stock_data)"
   ]
  },
  {
   "cell_type": "code",
   "execution_count": 41,
   "metadata": {},
   "outputs": [
    {
     "data": {
      "text/plain": [
       "[<matplotlib.lines.Line2D at 0x27267236f20>]"
      ]
     },
     "execution_count": 41,
     "metadata": {},
     "output_type": "execute_result"
    },
    {
     "data": {
      "image/png": "[encoded data removed]",
      "text/plain": [
       "<Figure size 640x480 with 1 Axes>"
      ]
     },
     "metadata": {},
     "output_type": "display_data"
    }
   ],
   "source": [
    "x = stock_data.values\n",
    "plt.plot(x[1:] / x[:-1])"
   ]
  },
  {
   "cell_type": "markdown",
   "metadata": {},
   "source": [
    "Clearly this shows, the stock value has an upward ascent<br>\n",
    "Hence, we cannot have states as sections in range of training data's stock values as when it comes to testing, it will see newer values again.\n",
    "Its better to work on the difference, or log ratios of consecutive occurences.<br>\n",
    "<ul>\n",
    "<li>Method 1: Differential States</li>\n",
    "<li>Method 2: Log Returns</li>\n",
    "</ul>\n"
   ]
  },
  {
   "cell_type": "code",
   "execution_count": 42,
   "metadata": {},
   "outputs": [
    {
     "data": {
      "text/plain": [
       "1995"
      ]
     },
     "execution_count": 42,
     "metadata": {},
     "output_type": "execute_result"
    }
   ],
   "source": [
    "ratio_training_stock_data = training_stock_data[1:]/ training_stock_data[:-1]\n",
    "len(ratio_training_stock_data)"
   ]
  },
  {
   "cell_type": "code",
   "execution_count": 43,
   "metadata": {},
   "outputs": [
    {
     "data": {
      "image/png": "[encoded data removed]",
      "text/plain": [
       "<Figure size 640x480 with 1 Axes>"
      ]
     },
     "metadata": {},
     "output_type": "display_data"
    }
   ],
   "source": [
    "# Plot histogram of differential_training_stock_data\n",
    "plt.hist(ratio_training_stock_data, bins=30)\n",
    "plt.show()"
   ]
  },
  {
   "cell_type": "code",
   "execution_count": 44,
   "metadata": {},
   "outputs": [
    {
     "name": "stdout",
     "output_type": "stream",
     "text": [
      "[0.92556471 0.9327571  0.93994949 0.94714187 0.95433426 0.96152665\n",
      " 0.96871904 0.97591143 0.98310381 0.9902962  0.99748859 1.00468098\n",
      " 1.01187336 1.01906575 1.02625814 1.03345053 1.04064292 1.0478353\n",
      " 1.05502769 1.06222008 1.06941247 1.07660485 1.08379724 1.09098963\n",
      " 1.09818202 1.10537441 1.11256679 1.11975918 1.12695157 1.13414396\n",
      " 1.14133634]\n"
     ]
    }
   ],
   "source": [
    "# Print the bins for histogram of a data\n",
    "hist, bins = np.histogram(ratio_training_stock_data, bins=30)\n",
    "# Print the histogram plot\n",
    "print(bins)"
   ]
  },
  {
   "cell_type": "code",
   "execution_count": 45,
   "metadata": {},
   "outputs": [
    {
     "data": {
      "text/plain": [
       "(221, array([0.96340391]), array([1.06737082]))"
      ]
     },
     "execution_count": 45,
     "metadata": {},
     "output_type": "execute_result"
    }
   ],
   "source": [
    "ratio_testing_stock_data = testing_stock_data[1:] / testing_stock_data[:-1]\n",
    "len(ratio_testing_stock_data), min(ratio_testing_stock_data), max(ratio_testing_stock_data)"
   ]
  },
  {
   "cell_type": "code",
   "execution_count": 46,
   "metadata": {},
   "outputs": [
    {
     "data": {
      "image/png": "[encoded data removed]",
      "text/plain": [
       "<Figure size 640x480 with 1 Axes>"
      ]
     },
     "metadata": {},
     "output_type": "display_data"
    }
   ],
   "source": [
    "plt.hist(ratio_testing_stock_data, bins=30)\n",
    "plt.show()"
   ]
  },
  {
   "cell_type": "markdown",
   "metadata": {},
   "source": [
    "### Q Learning Temporal Difference Agent"
   ]
  },
  {
   "cell_type": "code",
   "execution_count": 136,
   "metadata": {},
   "outputs": [],
   "source": [
    "from tqdm import tqdm\n",
    "\n",
    "class Q_Learning_Agent:\n",
    "    def __init__(self, bins, principal = 1000000, num_iterations=200, checkpoint=10):\n",
    "\n",
    "        self.num_iterations = num_iterations\n",
    "        self.checkpoint = checkpoint\n",
    "\n",
    "        # Values below are hyperparameters\n",
    "        # These are the values that we will tune to get the best results\n",
    "        self.epsilon = 0.8\n",
    "        self.decay = 1\n",
    "        self.gamma = 0.95\n",
    "        self.alpha = 0.9\n",
    "\n",
    "        # Values below are the environment values\n",
    "        self.max_lots_tradable = 36\n",
    "        self.lot_size = 15\n",
    "        self.transaction_cost = 0.000007\n",
    "        self.holdings = 0\n",
    "        self.avg_value = 0\n",
    "\n",
    "        self.bins = bins        \n",
    "\n",
    "        # Values below are the state and action spaces and the q-table\n",
    "        self.action_space = [i for i in range(-self.max_lots_tradable, self.max_lots_tradable+1)]\n",
    "        self.q_table = np.zeros((len(self.bins)+1, len(self.action_space)))\n",
    "\n",
    "        # Values below are the current state of the agent\n",
    "        self.cumulative_reward = 0\n",
    "        self.money = principal\n",
    "        self.principal = principal\n",
    "    \n",
    "    def map_diff_2_statespace(self, diff):\n",
    "        return np.digitize(x=diff, bins=self.bins)[0]\n",
    "    \n",
    "    # Epsilon Greedy Approach ==> (Can we do better? Thomson Sampling? or UCB?)\n",
    "    def get_action(self, current_val, prev_val):\n",
    "        if np.random.uniform(0,1) <= self.epsilon:\n",
    "            # Exploration\n",
    "            action = np.random.choice(self.action_space)\n",
    "            # self.epsilon = self.epsilon * self.decay\n",
    "            # assert(action in self.action_space)\n",
    "            return action\n",
    "        else:\n",
    "            current_state = self.map_diff_2_statespace(current_val/prev_val)\n",
    "            action = np.argmax(self.q_table[current_state]) - self.max_lots_tradable\n",
    "            # assert(action in self.action_space)\n",
    "            return action\n",
    "    \n",
    "    def get_reward(self, current_val, action):\n",
    "        earlier_money = self.money\n",
    "\n",
    "        if(action > 0):\n",
    "            if(self.holdings >= 0): \n",
    "                self.money = self.money - action*self.lot_size*current_val - abs(action)*self.lot_size*self.transaction_cost*current_val\n",
    "                self.avg_value = (self.avg_value*self.holdings + action*current_val)/(self.holdings + action)\n",
    "            else:\n",
    "                if(abs(action) <= abs(self.holdings)):\n",
    "                    self.money = self.money + action*self.lot_size*(2*self.avg_value  - current_val) - abs(action)*self.lot_size*self.transaction_cost*current_val\n",
    "                else:\n",
    "                    self.money = self.money + (2*abs(self.holdings)-current_val)*self.lot_size*self.avg_value + (-abs(self.holdings)+action)*self.lot_size*current_val - abs(action)*self.lot_size*self.transaction_cost*current_val\n",
    "                    self.avg_value = current_val\n",
    "        elif(action < 0):\n",
    "            if(self.holdings <= 0):\n",
    "                self.money = self.money - abs(action)*self.lot_size*current_val - abs(action)*self.lot_size*self.transaction_cost*current_val\n",
    "                self.avg = abs((self.avg_value*self.holdings + action*current_val)/(self.holdings + action))\n",
    "            else:\n",
    "                if(abs(action) <= self.holdings):\n",
    "                    self.money = self.money + abs(action)*self.lot_size*current_val - abs(action)*self.lot_size*self.transaction_cost*current_val\n",
    "                else:\n",
    "                    self.money = self.money + (2*self.holdings - abs(action))*self.lot_size*current_val - abs(action)*self.lot_size*self.transaction_cost*current_val\n",
    "                    self.avg_value = current_val\n",
    "\n",
    "        if(self.money < 0):\n",
    "            self.money = earlier_money\n",
    "            return None\n",
    "        self.holdings += action\n",
    "        reward = self.money - earlier_money\n",
    "        return reward\n",
    "    \n",
    "    # GREEDY APPROACH => UNSTABLE LEARNING OR \n",
    "    # Maybe Use RL-LSTM (NIPS Paper, Literature Review)\n",
    "    # def predict_next_state(self):\n",
    "    #     return np.argmax(self.q_table[self.current_state])\n",
    "\n",
    "    def update_q_table(self, prev_val, current_val, action, next_val):\n",
    "        current_state = self.map_diff_2_statespace(current_val/prev_val)\n",
    "        next_state = self.map_diff_2_statespace(next_val/current_val)\n",
    "        reward = self.get_reward(current_val, action)\n",
    "        if(reward == None):\n",
    "            return # soi \n",
    "        self.cumulative_reward += reward\n",
    "        q_new = reward + self.gamma*np.max(self.q_table[next_state])\n",
    "        self.q_table[current_state][action+self.max_lots_tradable] = (1-self.alpha)*self.q_table[current_state][action+self.max_lots_tradable] + self.alpha*q_new\n",
    "    \n",
    "    def train(self, data):\n",
    "        cumulative_rewards = []\n",
    "        for i in range(self.num_iterations):\n",
    "            self.epsilon = self.epsilon * self.decay\n",
    "            for j in range(1,len(data)-1):\n",
    "                action = self.get_action(data[j], data[j-1])\n",
    "                # If beyond aukat, then null and void)\n",
    "                if(action>0 and self.holdings>0 or action < 0 and self.holdings<0):\n",
    "                    if(abs(action*self.lot_size*data[j]) > self.money): \n",
    "                        continue\n",
    "                \n",
    "                self.update_q_table(data[j-1], data[j], action, data[j+1])\n",
    "            \n",
    "\n",
    "            if (i+1)%self.checkpoint == 0:\n",
    "                print(\"Iteration:\", i+1, \" Cumulative Reward:\", self.cumulative_reward)\n",
    "            \n",
    "            if(self.holdings>=0):\n",
    "                self.cumulative_reward += (abs(self.holdings)*self.lot_size*data[-1] - abs(self.holdings)*self.lot_size*self.transaction_cost*data[-1]) \n",
    "            else:\n",
    "                self.cumulative_reward += (abs(self.holdings)*self.lot_size*(2*self.avg_value - data[-1]) - abs(self.holdings)*self.lot_size*self.transaction_cost*data[-1])\n",
    "            cumulative_rewards.append(self.cumulative_reward)\n",
    "            self.cumulative_reward = 0\n",
    "            self.money = self.principal\n",
    "        return cumulative_rewards\n",
    "\n",
    "    def plot_progress(self, cumulative_rewards):\n",
    "        plt.plot(cumulative_rewards)\n",
    "        plt.xlabel(\"Iterations\")\n",
    "        plt.ylabel(\"Cumulative Reward\")\n",
    "        plt.show()\n",
    "    \n",
    "    def save_q_table(self, filename):\n",
    "        np.save(filename, self.q_table)\n",
    "    \n",
    "    def load_q_table(self, filename):\n",
    "        self.q_table = np.load(filename)"
   ]
  },
  {
   "cell_type": "code",
   "execution_count": 138,
   "metadata": {},
   "outputs": [
    {
     "name": "stdout",
     "output_type": "stream",
     "text": [
      "Iteration: 50  Cumulative Reward: [-827164.93456657]\n",
      "Iteration: 100  Cumulative Reward: [-463886.57984543]\n",
      "Iteration: 150  Cumulative Reward: [-797471.12957221]\n",
      "Iteration: 200  Cumulative Reward: [-411766.89039022]\n",
      "Iteration: 250  Cumulative Reward: [-635143.43445169]\n",
      "Iteration: 300  Cumulative Reward: [-596909.60355219]\n",
      "Iteration: 350  Cumulative Reward: [-671188.43448571]\n",
      "Iteration: 400  Cumulative Reward: [-792007.07747918]\n",
      "Iteration: 450  Cumulative Reward: [428750.72388014]\n",
      "Iteration: 500  Cumulative Reward: [-964051.6150104]\n",
      "Iteration: 550  Cumulative Reward: [1193311.88448401]\n",
      "Iteration: 600  Cumulative Reward: [-556034.99992778]\n",
      "Iteration: 650  Cumulative Reward: [591474.1391167]\n",
      "Iteration: 700  Cumulative Reward: [-20863.54202217]\n",
      "Iteration: 750  Cumulative Reward: [-778727.78646421]\n",
      "Iteration: 800  Cumulative Reward: [-913090.01168157]\n",
      "Iteration: 850  Cumulative Reward: [-863558.22133298]\n",
      "Iteration: 900  Cumulative Reward: [-608072.84747633]\n",
      "Iteration: 950  Cumulative Reward: [2706807.14708539]\n",
      "Iteration: 1000  Cumulative Reward: [-292049.42145675]\n"
     ]
    },
    {
     "data": {
      "image/png": "[encoded data removed]",
      "text/plain": [
       "<Figure size 640x480 with 1 Axes>"
      ]
     },
     "metadata": {},
     "output_type": "display_data"
    }
   ],
   "source": [
    "agent = Q_Learning_Agent(bins, principal = 1000000, num_iterations = 1000, checkpoint = 50)\n",
    "cumulative_rewards = agent.train(training_stock_data)\n",
    "cumulative_rewards.sort()\n",
    "agent.plot_progress(cumulative_rewards)"
   ]
  },
  {
   "cell_type": "code",
   "execution_count": 139,
   "metadata": {},
   "outputs": [],
   "source": [
    "agent.save_q_table(\"q_table\")"
   ]
  },
  {
   "cell_type": "code",
   "execution_count": 148,
   "metadata": {
    "notebookRunGroups": {
     "groupValue": "1"
    }
   },
   "outputs": [],
   "source": [
    "def test(agent, data):\n",
    "        agent.money = 1000000\n",
    "        cumulative_reward = 0\n",
    "        agent.epsilon = 0.9\n",
    "        actions, rewards = [], []\n",
    "        for val in tqdm(data):\n",
    "            action = np.argmax(agent.q_table[agent.map_diff_2_statespace(val)])\n",
    "            actions.append(action)\n",
    "            reward = agent.get_reward(action, val)\n",
    "            if reward:\n",
    "                rewards.append(reward)\n",
    "                cumulative_reward += reward\n",
    "            else:\n",
    "                rewards.append(0)\n",
    "                cumulative_reward += 0\n",
    "\n",
    "        return actions, rewards, cumulative_reward\n"
   ]
  },
  {
   "cell_type": "code",
   "execution_count": 149,
   "metadata": {},
   "outputs": [
    {
     "name": "stderr",
     "output_type": "stream",
     "text": [
      "100%|██████████| 222/222 [00:00<00:00, 21248.13it/s]\n"
     ]
    },
    {
     "data": {
      "text/plain": [
       "array([206021.14581866])"
      ]
     },
     "execution_count": 149,
     "metadata": {},
     "output_type": "execute_result"
    }
   ],
   "source": [
    "actions, rewards, cumulative_reward = test(agent, testing_stock_data)\n",
    "cumulative_reward"
   ]
  },
  {
   "cell_type": "code",
   "execution_count": 150,
   "metadata": {},
   "outputs": [
    {
     "name": "stderr",
     "output_type": "stream",
     "text": [
      "c:\\Users\\sabya\\AppData\\Local\\Programs\\Python\\Python310\\lib\\site-packages\\numpy\\core\\shape_base.py:65: VisibleDeprecationWarning: Creating an ndarray from ragged nested sequences (which is a list-or-tuple of lists-or-tuples-or ndarrays with different lengths or shapes) is deprecated. If you meant to do this, you must specify 'dtype=object' when creating the ndarray.\n",
      "  ary = asanyarray(ary)\n"
     ]
    },
    {
     "data": {
      "text/plain": [
       "[<matplotlib.lines.Line2D at 0x2726ac53310>]"
      ]
     },
     "execution_count": 150,
     "metadata": {},
     "output_type": "execute_result"
    },
    {
     "data": {
      "image/png": "[encoded data removed]",
      "text/plain": [
       "<Figure size 640x480 with 1 Axes>"
      ]
     },
     "metadata": {},
     "output_type": "display_data"
    }
   ],
   "source": [
    "plt.plot(rewards)"
   ]
  },
  {
   "cell_type": "code",
   "execution_count": 85,
   "metadata": {},
   "outputs": [
    {
     "data": {
      "text/plain": [
       "[<matplotlib.lines.Line2D at 0x27269088280>]"
      ]
     },
     "execution_count": 85,
     "metadata": {},
     "output_type": "execute_result"
    },
    {
     "data": {
      "image/png": "[encoded data removed]",
      "text/plain": [
       "<Figure size 640x480 with 1 Axes>"
      ]
     },
     "metadata": {},
     "output_type": "display_data"
    }
   ],
   "source": [
    "plt.plot(actions)"
   ]
  }
 ],
 "metadata": {
  "kernelspec": {
   "display_name": "Python 3",
   "language": "python",
   "name": "python3"
  },
  "language_info": {
   "codemirror_mode": {
    "name": "ipython",
    "version": 3
   },
   "file_extension": ".py",
   "mimetype": "text/x-python",
   "name": "python",
   "nbconvert_exporter": "python",
   "pygments_lexer": "ipython3",
   "version": "3.10.7"
  },
  "orig_nbformat": 4
 },
 "nbformat": 4,
 "nbformat_minor": 2
}
