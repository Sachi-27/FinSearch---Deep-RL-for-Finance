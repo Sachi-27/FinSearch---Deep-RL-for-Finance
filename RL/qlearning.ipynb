{
 "cells": [
  {
   "cell_type": "code",
   "execution_count": 1,
   "metadata": {},
   "outputs": [],
   "source": [
    "import numpy as np\n",
    "import pandas as pd\n",
    "import matplotlib.pyplot as plt\n",
    "import yfinance as yf"
   ]
  },
  {
   "cell_type": "code",
   "execution_count": 12,
   "metadata": {},
   "outputs": [
    {
     "name": "stdout",
     "output_type": "stream",
     "text": [
      "[*********************100%%**********************]  1 of 1 completed\n",
      "Data collection and saving complete.\n"
     ]
    }
   ],
   "source": [
    "# nifty50_stocks = [\n",
    "#     \"RELIANCE.NS\" , \"TCS.NS\", \"HDFCBANK.NS\",  # ... Add other stock symbols here\n",
    "#     # List of all NIFTY50 stocks: https://www1.nseindia.com/live_market/dynaContent/live_watch/equities_stock_watch.htm\n",
    "# ]\n",
    "\n",
    "start_date = \"2010-01-01\"\n",
    "end_date = \"2019-06-30\"\n",
    "\n",
    "stock_data = pd.DataFrame()\n",
    "\n",
    "stock_data = yf.download(\"RELIANCE.NS\", start=start_date, end=end_date)\n",
    "stock_data.to_csv('reliance_stock_data.csv', index=False)\n",
    "\n",
    "print(\"Data collection and saving complete.\")"
   ]
  },
  {
   "cell_type": "code",
   "execution_count": 2,
   "metadata": {},
   "outputs": [
    {
     "data": {
      "text/html": [
       "<div>\n",
       "<style scoped>\n",
       "    .dataframe tbody tr th:only-of-type {\n",
       "        vertical-align: middle;\n",
       "    }\n",
       "\n",
       "    .dataframe tbody tr th {\n",
       "        vertical-align: top;\n",
       "    }\n",
       "\n",
       "    .dataframe thead th {\n",
       "        text-align: right;\n",
       "    }\n",
       "</style>\n",
       "<table border=\"1\" class=\"dataframe\">\n",
       "  <thead>\n",
       "    <tr style=\"text-align: right;\">\n",
       "      <th></th>\n",
       "      <th>Close</th>\n",
       "    </tr>\n",
       "  </thead>\n",
       "  <tbody>\n",
       "    <tr>\n",
       "      <th>0</th>\n",
       "      <td>532.700500</td>\n",
       "    </tr>\n",
       "    <tr>\n",
       "      <th>1</th>\n",
       "      <td>530.323059</td>\n",
       "    </tr>\n",
       "    <tr>\n",
       "      <th>2</th>\n",
       "      <td>538.891846</td>\n",
       "    </tr>\n",
       "    <tr>\n",
       "      <th>3</th>\n",
       "      <td>547.832092</td>\n",
       "    </tr>\n",
       "    <tr>\n",
       "      <th>4</th>\n",
       "      <td>546.395691</td>\n",
       "    </tr>\n",
       "  </tbody>\n",
       "</table>\n",
       "</div>"
      ],
      "text/plain": [
       "        Close\n",
       "0  532.700500\n",
       "1  530.323059\n",
       "2  538.891846\n",
       "3  547.832092\n",
       "4  546.395691"
      ]
     },
     "execution_count": 2,
     "metadata": {},
     "output_type": "execute_result"
    }
   ],
   "source": [
    "# Read the data from the csv file, read only the column named Close\n",
    "stock_data = pd.read_csv(\"reliance_stock_data.csv\")[[\"Close\"]]\n",
    "stock_data.head()"
   ]
  },
  {
   "cell_type": "code",
   "execution_count": 3,
   "metadata": {},
   "outputs": [
    {
     "data": {
      "text/html": [
       "<div>\n",
       "<style scoped>\n",
       "    .dataframe tbody tr th:only-of-type {\n",
       "        vertical-align: middle;\n",
       "    }\n",
       "\n",
       "    .dataframe tbody tr th {\n",
       "        vertical-align: top;\n",
       "    }\n",
       "\n",
       "    .dataframe thead th {\n",
       "        text-align: right;\n",
       "    }\n",
       "</style>\n",
       "<table border=\"1\" class=\"dataframe\">\n",
       "  <thead>\n",
       "    <tr style=\"text-align: right;\">\n",
       "      <th></th>\n",
       "      <th>Close</th>\n",
       "    </tr>\n",
       "  </thead>\n",
       "  <tbody>\n",
       "    <tr>\n",
       "      <th>count</th>\n",
       "      <td>2339.000000</td>\n",
       "    </tr>\n",
       "    <tr>\n",
       "      <th>mean</th>\n",
       "      <td>586.935741</td>\n",
       "    </tr>\n",
       "    <tr>\n",
       "      <th>std</th>\n",
       "      <td>255.480789</td>\n",
       "    </tr>\n",
       "    <tr>\n",
       "      <th>min</th>\n",
       "      <td>334.875702</td>\n",
       "    </tr>\n",
       "    <tr>\n",
       "      <th>25%</th>\n",
       "      <td>427.250092</td>\n",
       "    </tr>\n",
       "    <tr>\n",
       "      <th>50%</th>\n",
       "      <td>489.683289</td>\n",
       "    </tr>\n",
       "    <tr>\n",
       "      <th>75%</th>\n",
       "      <td>555.992249</td>\n",
       "    </tr>\n",
       "    <tr>\n",
       "      <th>max</th>\n",
       "      <td>1395.620850</td>\n",
       "    </tr>\n",
       "  </tbody>\n",
       "</table>\n",
       "</div>"
      ],
      "text/plain": [
       "             Close\n",
       "count  2339.000000\n",
       "mean    586.935741\n",
       "std     255.480789\n",
       "min     334.875702\n",
       "25%     427.250092\n",
       "50%     489.683289\n",
       "75%     555.992249\n",
       "max    1395.620850"
      ]
     },
     "execution_count": 3,
     "metadata": {},
     "output_type": "execute_result"
    }
   ],
   "source": [
    "stock_data.describe()"
   ]
  },
  {
   "cell_type": "code",
   "execution_count": 4,
   "metadata": {},
   "outputs": [
    {
     "data": {
      "text/plain": [
       "(2105, 234)"
      ]
     },
     "execution_count": 4,
     "metadata": {},
     "output_type": "execute_result"
    }
   ],
   "source": [
    "# Divide into 90% training and 10% testing\n",
    "training_stock_data = stock_data[:int(len(stock_data)*0.9)].values\n",
    "testing_stock_data = stock_data[int(len(stock_data)*0.9):].values\n",
    "\n",
    "len(training_stock_data), len(testing_stock_data)"
   ]
  },
  {
   "cell_type": "code",
   "execution_count": 5,
   "metadata": {},
   "outputs": [
    {
     "data": {
      "text/plain": [
       "(array([334.8757019]), array([1029.0456543]))"
      ]
     },
     "execution_count": 5,
     "metadata": {},
     "output_type": "execute_result"
    }
   ],
   "source": [
    "min(training_stock_data), max(training_stock_data)"
   ]
  },
  {
   "cell_type": "code",
   "execution_count": 6,
   "metadata": {},
   "outputs": [
    {
     "data": {
      "text/plain": [
       "(array([1021.12078857]), array([1395.62084961]))"
      ]
     },
     "execution_count": 6,
     "metadata": {},
     "output_type": "execute_result"
    }
   ],
   "source": [
    "min(testing_stock_data), max(testing_stock_data)"
   ]
  },
  {
   "cell_type": "markdown",
   "metadata": {},
   "source": [
    "Clearly this shows, the stock value has an upward ascent<br>\n",
    "Hence, we cannot have states as sections in range of training data's stock values as when it comes to testing, it will see newer values again.\n",
    "Its better to work on the difference, or log ratios of consecutive occurences.<br>\n",
    "<ul>\n",
    "<li>Method 1: Differential States</li>\n",
    "<li>Method 2: Log Returns</li>\n",
    "</ul>\n"
   ]
  },
  {
   "cell_type": "code",
   "execution_count": 7,
   "metadata": {},
   "outputs": [
    {
     "data": {
      "text/plain": [
       "2104"
      ]
     },
     "execution_count": 7,
     "metadata": {},
     "output_type": "execute_result"
    }
   ],
   "source": [
    "differential_training_stock_data = training_stock_data[1:] - training_stock_data[:-1]\n",
    "len(differential_training_stock_data)"
   ]
  },
  {
   "cell_type": "code",
   "execution_count": 8,
   "metadata": {},
   "outputs": [
    {
     "data": {
      "text/plain": [
       "(array([-39.12908936]), array([59.08990479]))"
      ]
     },
     "execution_count": 8,
     "metadata": {},
     "output_type": "execute_result"
    }
   ],
   "source": [
    "min(differential_training_stock_data), max(differential_training_stock_data)"
   ]
  },
  {
   "cell_type": "code",
   "execution_count": 9,
   "metadata": {},
   "outputs": [
    {
     "data": {
      "image/png": "[encoded data removed]",
      "text/plain": [
       "<Figure size 640x480 with 1 Axes>"
      ]
     },
     "metadata": {},
     "output_type": "display_data"
    }
   ],
   "source": [
    "# Plot histogram of differential_training_stock_data\n",
    "plt.hist(differential_training_stock_data, bins=20)\n",
    "plt.show()"
   ]
  },
  {
   "cell_type": "code",
   "execution_count": 10,
   "metadata": {},
   "outputs": [
    {
     "name": "stdout",
     "output_type": "stream",
     "text": [
      "[-39.12908936 -34.21813965 -29.30718994 -24.39624023 -19.48529053\n",
      " -14.57434082  -9.66339111  -4.75244141   0.1585083    5.06945801\n",
      "   9.98040771  14.89135742  19.80230713  24.71325684  29.62420654\n",
      "  34.53515625  39.44610596  44.35705566  49.26800537  54.17895508\n",
      "  59.08990479]\n"
     ]
    }
   ],
   "source": [
    "# Print the bins for histogram of a data\n",
    "hist, bins = np.histogram(differential_training_stock_data, bins=20)\n",
    "# Print the histogram plot\n",
    "print(bins)"
   ]
  },
  {
   "cell_type": "code",
   "execution_count": 11,
   "metadata": {},
   "outputs": [
    {
     "data": {
      "text/plain": [
       "(233, array([-82.07214355]), array([59.98144531]))"
      ]
     },
     "execution_count": 11,
     "metadata": {},
     "output_type": "execute_result"
    }
   ],
   "source": [
    "differential_testing_stock_data = testing_stock_data[1:] - testing_stock_data[:-1]\n",
    "len(differential_testing_stock_data), min(differential_testing_stock_data), max(differential_testing_stock_data)"
   ]
  },
  {
   "cell_type": "code",
   "execution_count": 12,
   "metadata": {},
   "outputs": [
    {
     "data": {
      "image/png": "[encoded data removed]",
      "text/plain": [
       "<Figure size 640x480 with 1 Axes>"
      ]
     },
     "metadata": {},
     "output_type": "display_data"
    }
   ],
   "source": [
    "plt.hist(differential_testing_stock_data, bins=30)\n",
    "plt.show()"
   ]
  },
  {
   "cell_type": "markdown",
   "metadata": {},
   "source": [
    "### Q Learning Temporal Difference Agent"
   ]
  },
  {
   "cell_type": "code",
   "execution_count": 14,
   "metadata": {},
   "outputs": [],
   "source": [
    "from tqdm import tqdm\n",
    "\n",
    "class Q_Learning_Agent:\n",
    "    def __init__(self, bins, principal = 1000000, num_iterations=200, checkpoint=10):\n",
    "\n",
    "        self.num_iterations = num_iterations\n",
    "        self.checkpoint = checkpoint\n",
    "\n",
    "        # Values below are hyperparameters\n",
    "        # These are the values that we will tune to get the best results\n",
    "        self.epsilon = 0.9\n",
    "        self.decay = 0.999\n",
    "        self.gamma = 0.9\n",
    "        self.alpha = 0.9\n",
    "\n",
    "        # Values below are the environment values\n",
    "        self.max_lots_tradable = 36\n",
    "        self.lot_size = 50\n",
    "        self.transaction_cost = 0.000007\n",
    "        self.holdings = 0\n",
    "\n",
    "        self.bins = bins        \n",
    "\n",
    "        # Values below are the state and action spaces and the q-table\n",
    "        self.action_space = [i for i in range(-self.max_lots_tradable, self.max_lots_tradable+1)]\n",
    "        print(self.action_space)\n",
    "        # self.state_space = [i for i in range(-self.max_lots_cumulative_traded, self.max_lots_cumulative_traded+1)]\n",
    "        self.q_table = np.zeros((len(self.bins)+1, len(self.action_space)))\n",
    "\n",
    "        # Values below are the current state of the agent\n",
    "        self.cumulative_reward = 0\n",
    "        self.money = principal\n",
    "        self.principal = principal\n",
    "    \n",
    "    def map_diff_2_statespace(self, diff):\n",
    "        return np.digitize(x=diff, bins=self.bins)[0]\n",
    "    \n",
    "    # Epsilon Greedy Approach ==> (Can we do better? Thomson Sampling? or UCB?)\n",
    "    def get_action(self, current_val):\n",
    "        if np.random.uniform(0,1) <= self.epsilon:\n",
    "            action = np.random.choice(self.action_space)\n",
    "            self.epsilon = self.epsilon * self.decay\n",
    "            assert(action in self.action_space)\n",
    "            return action\n",
    "        else:\n",
    "            current_state = self.map_diff_2_statespace(current_val)\n",
    "            action = np.argmax(self.q_table[current_state]) - self.max_lots_tradable\n",
    "            assert(action in self.action_space)\n",
    "            return action\n",
    "    \n",
    "    def get_reward(self, current_val, action):\n",
    "        earlier_money = self.money\n",
    "\n",
    "        if(action > 0):\n",
    "            if(self.holdings >= 0): \n",
    "                self.money = self.money - action*self.lot_size*current_val - abs(action)*self.lot_size*self.transaction_cost*current_val\n",
    "            else:\n",
    "                if(abs(action) <= abs(self.holdings)):\n",
    "                    self.money = self.money + action*self.lot_size*current_val - abs(action)*self.lot_size*self.transaction_cost*current_val\n",
    "                else:\n",
    "                    self.money = self.money + (2*abs(self.holdings)-action)*self.lot_size*current_val - abs(action)*self.lot_size*self.transaction_cost*current_val\n",
    "        elif(action < 0):\n",
    "            if(self.holdings <= 0):\n",
    "                self.money = self.money - action*self.lot_size*current_val - abs(action)*self.lot_size*self.transaction_cost*current_val\n",
    "            else:\n",
    "                if(abs(action) <= self.holdings):\n",
    "                    self.money = self.money + abs(action)*self.lot_size*current_val - abs(action)*self.lot_size*self.transaction_cost*current_val\n",
    "                else:\n",
    "                    self.money = self.money + (2*(self.holdings)-abs(action))*self.lot_size*current_val - abs(action)*self.lot_size*self.transaction_cost*current_val\n",
    "\n",
    "        self.holdings += action\n",
    "        reward = self.money - earlier_money\n",
    "        return reward\n",
    "    \n",
    "    # GREEDY APPROACH => UNSTABLE LEARNING OR \n",
    "    # Maybe Use RL-LSTM (NIPS Paper, Literature Review)\n",
    "    # def predict_next_state(self):\n",
    "    #     return np.argmax(self.q_table[self.current_state])\n",
    "\n",
    "    def update_q_table(self, current_val, action, next_val):\n",
    "        current_state = self.map_diff_2_statespace(current_val)\n",
    "        next_state = self.map_diff_2_statespace(next_val)\n",
    "        reward = self.get_reward(current_val, action)\n",
    "        self.cumulative_reward += reward\n",
    "        q_new = reward + self.gamma*np.max(self.q_table[next_state])\n",
    "        self.q_table[current_state][action+self.max_lots_tradable] = (1-self.alpha)*self.q_table[current_state][action+self.max_lots_tradable] + self.alpha*q_new\n",
    "    def train(self, data):\n",
    "        cumulative_rewards = []\n",
    "        for i in range(self.num_iterations):\n",
    "            # print(\"Iteration: \", i+1)\n",
    "            prev_val = data[0]\n",
    "            # for val in tqdm(data[1:]):\n",
    "            for val in data[1:]:\n",
    "                action = self.get_action(current_val=prev_val)\n",
    "                self.update_q_table(prev_val, action, val)\n",
    "\n",
    "                prev_val = val\n",
    "\n",
    "            if (i+1)%self.checkpoint == 0:\n",
    "                print(\"Iteration:\", i+1, \" Cumulative Reward:\", self.cumulative_reward)\n",
    "\n",
    "            cumulative_rewards.append(self.cumulative_reward)\n",
    "            self.cumulative_reward = 0\n",
    "            self.epsilon = 0.9\n",
    "            self.money = self.principal\n",
    "        return cumulative_rewards\n",
    "\n",
    "    def plot_progress(self, cumulative_rewards):\n",
    "        plt.plot(cumulative_rewards)\n",
    "        plt.xlabel(\"Iterations\")\n",
    "        plt.ylabel(\"Cumulative Reward\")\n",
    "        plt.show()\n",
    "    \n",
    "    def save_q_table(self, filename):\n",
    "        np.save(filename, self.q_table)\n",
    "    \n",
    "    def load_q_table(self, filename):\n",
    "        self.q_table = np.load(filename)"
   ]
  },
  {
   "cell_type": "code",
   "execution_count": 15,
   "metadata": {},
   "outputs": [
    {
     "name": "stdout",
     "output_type": "stream",
     "text": [
      "[-36, -35, -34, -33, -32, -31, -30, -29, -28, -27, -26, -25, -24, -23, -22, -21, -20, -19, -18, -17, -16, -15, -14, -13, -12, -11, -10, -9, -8, -7, -6, -5, -4, -3, -2, -1, 0, 1, 2, 3, 4, 5, 6, 7, 8, 9, 10, 11, 12, 13, 14, 15, 16, 17, 18, 19, 20, 21, 22, 23, 24, 25, 26, 27, 28, 29, 30, 31, 32, 33, 34, 35, 36]\n",
      "Iteration: 50  Cumulative Reward: [1.35269871e+09]\n",
      "Iteration: 100  Cumulative Reward: [1.33833276e+09]\n",
      "Iteration: 150  Cumulative Reward: [1.35877951e+09]\n",
      "Iteration: 200  Cumulative Reward: [1.36517954e+09]\n",
      "Iteration: 250  Cumulative Reward: [1.35177557e+09]\n",
      "Iteration: 300  Cumulative Reward: [1.36103555e+09]\n",
      "Iteration: 350  Cumulative Reward: [1.36384172e+09]\n",
      "Iteration: 400  Cumulative Reward: [1.36117323e+09]\n",
      "Iteration: 450  Cumulative Reward: [1.37047545e+09]\n",
      "Iteration: 500  Cumulative Reward: [1.36570647e+09]\n",
      "Iteration: 550  Cumulative Reward: [1.3518296e+09]\n",
      "Iteration: 600  Cumulative Reward: [1.36226899e+09]\n",
      "Iteration: 650  Cumulative Reward: [1.38402296e+09]\n",
      "Iteration: 700  Cumulative Reward: [1.3497676e+09]\n",
      "Iteration: 750  Cumulative Reward: [1.34696568e+09]\n",
      "Iteration: 800  Cumulative Reward: [1.35814056e+09]\n",
      "Iteration: 850  Cumulative Reward: [1.32648929e+09]\n",
      "Iteration: 900  Cumulative Reward: [1.37210129e+09]\n",
      "Iteration: 950  Cumulative Reward: [1.36823412e+09]\n",
      "Iteration: 1000  Cumulative Reward: [1.37291519e+09]\n"
     ]
    },
    {
     "data": {
      "image/png": "[encoded data removed]",
      "text/plain": [
       "<Figure size 640x480 with 1 Axes>"
      ]
     },
     "metadata": {},
     "output_type": "display_data"
    }
   ],
   "source": [
    "agent = Q_Learning_Agent(bins, principal = 1000000, num_iterations = 1000, checkpoint = 50)\n",
    "cumulative_rewards = agent.train(training_stock_data)\n",
    "agent.plot_progress(cumulative_rewards)"
   ]
  },
  {
   "cell_type": "code",
   "execution_count": 40,
   "metadata": {},
   "outputs": [],
   "source": [
    "agent.save_q_table(\"q_table\")"
   ]
  },
  {
   "cell_type": "code",
   "execution_count": 16,
   "metadata": {},
   "outputs": [],
   "source": [
    "def test(agent, data):\n",
    "        agent.money = 1000000\n",
    "        cumulative_reward = 0\n",
    "        agent.epsilon = 0.9\n",
    "        actions, rewards = [], []\n",
    "        for val in tqdm(data):\n",
    "            action = np.argmax(agent.q_table[agent.map_diff_2_statespace(val)])\n",
    "            actions.append(action)\n",
    "            reward = agent.get_reward(action, val)\n",
    "            rewards.append(reward)\n",
    "            cumulative_reward += reward\n",
    "\n",
    "        return actions, rewards, cumulative_reward\n"
   ]
  },
  {
   "cell_type": "code",
   "execution_count": 19,
   "metadata": {},
   "outputs": [
    {
     "name": "stderr",
     "output_type": "stream",
     "text": [
      "100%|██████████| 234/234 [00:00<00:00, 13659.57it/s]\n"
     ]
    },
    {
     "data": {
      "text/plain": [
       "array([-1.01745765e+09])"
      ]
     },
     "execution_count": 19,
     "metadata": {},
     "output_type": "execute_result"
    }
   ],
   "source": [
    "actions, rewards, cumulative_reward = test(agent, testing_stock_data)\n",
    "cumulative_reward"
   ]
  },
  {
   "cell_type": "code",
   "execution_count": 46,
   "metadata": {},
   "outputs": [
    {
     "data": {
      "text/plain": [
       "[<matplotlib.lines.Line2D at 0x1cc88e808e0>]"
      ]
     },
     "execution_count": 46,
     "metadata": {},
     "output_type": "execute_result"
    },
    {
     "data": {
      "image/png": "[encoded data removed]",
      "text/plain": [
       "<Figure size 640x480 with 1 Axes>"
      ]
     },
     "metadata": {},
     "output_type": "display_data"
    }
   ],
   "source": [
    "plt.plot(rewards)"
   ]
  },
  {
   "cell_type": "code",
   "execution_count": 47,
   "metadata": {},
   "outputs": [
    {
     "data": {
      "text/plain": [
       "[<matplotlib.lines.Line2D at 0x1cc893987f0>]"
      ]
     },
     "execution_count": 47,
     "metadata": {},
     "output_type": "execute_result"
    },
    {
     "data": {
      "image/png": "[encoded data removed]",
      "text/plain": [
       "<Figure size 640x480 with 1 Axes>"
      ]
     },
     "metadata": {},
     "output_type": "display_data"
    }
   ],
   "source": [
    "plt.plot(actions)"
   ]
  }
 ],
 "metadata": {
  "kernelspec": {
   "display_name": "Python 3",
   "language": "python",
   "name": "python3"
  },
  "language_info": {
   "codemirror_mode": {
    "name": "ipython",
    "version": 3
   },
   "file_extension": ".py",
   "mimetype": "text/x-python",
   "name": "python",
   "nbconvert_exporter": "python",
   "pygments_lexer": "ipython3",
   "version": "3.10.7"
  },
  "orig_nbformat": 4
 },
 "nbformat": 4,
 "nbformat_minor": 2
}
