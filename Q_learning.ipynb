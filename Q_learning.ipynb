{
 "cells": [
  {
   "cell_type": "code",
   "execution_count": 16,
   "id": "1125d7d3",
   "metadata": {},
   "outputs": [],
   "source": [
    "import numpy as np\n",
    "import pandas as pd\n",
    "import yfinance as yf\n",
    "import matplotlib.pyplot as plt"
   ]
  },
  {
   "cell_type": "code",
   "execution_count": 42,
   "id": "eaed68d7",
   "metadata": {},
   "outputs": [],
   "source": [
    "# Function to get NIFTY50 data\n",
    "def get_nifty50_data(start_date, end_date):\n",
    "    data = yf.download('^NSEI', start=start_date, end=end_date)\n",
    "    return data['Close']\n"
   ]
  },
  {
   "cell_type": "code",
   "execution_count": 49,
   "id": "1900e204",
   "metadata": {},
   "outputs": [],
   "source": [
    "# Function to choose the next action using epsilon-greedy policy\n",
    "def choose_action(state, q_values, epsilon):\n",
    "    if np.random.uniform(0, 1) < epsilon:\n",
    "        # Randomly choose an action\n",
    "        return np.random.choice([0, 1])  # 0: Buy, 1: Sell\n",
    "    else:\n",
    "        # Choose the action with the highest Q-value\n",
    "        return np.argmax(q_values[state])"
   ]
  },
  {
   "cell_type": "code",
   "execution_count": 50,
   "id": "50ded444",
   "metadata": {},
   "outputs": [],
   "source": [
    "# Q-learning algorithm for NIFTY50 trading\n",
    "def q_learning_nifty50(data, initial_balance=10000, num_episodes=1000, epsilon=0.3):\n",
    "    # Normalize the data for better convergence\n",
    "    data = data / data.iloc[0]\n",
    "\n",
    "    # Initialize Q-values\n",
    "    num_states = 1000  # Number of states based on portfolio value and return\n",
    "    q_values = np.zeros((num_states, 2))  # 2 actions (buy, sell)\n",
    "\n",
    "    # Track portfolio value for each episode\n",
    "    portfolio_values = []\n",
    "\n",
    "    for episode in range(num_episodes):\n",
    "        balance = initial_balance\n",
    "        shares = 0\n",
    "        total_reward = 0\n",
    "\n",
    "        for i in range(len(data) - 1):\n",
    "            # Calculate the current state index based on portfolio value and return\n",
    "            state = int((balance / initial_balance) * 100) * 10 + int((data.iloc[i + 1] - data.iloc[i]) * 100)\n",
    "\n",
    "            # Clip the state index to valid bounds\n",
    "            state = max(0, min(state, num_states - 1))\n",
    "\n",
    "            # Choose action based on epsilon-greedy policy\n",
    "            action = choose_action(state, q_values, epsilon)\n",
    "\n",
    "            # Calculate the reward for the action\n",
    "            reward = (data.iloc[i + 1] - data.iloc[i]) * shares\n",
    "\n",
    "            # Update balance and shares based on the action\n",
    "            if action == 0:  # Buy\n",
    "                shares_to_buy = int(balance / data.iloc[i + 1])\n",
    "                balance -= shares_to_buy * data.iloc[i + 1]\n",
    "                shares += shares_to_buy\n",
    "            else:  # Sell\n",
    "                balance += shares * data.iloc[i + 1]\n",
    "                shares = 0\n",
    "\n",
    "            # Get the next state and update the Q-value\n",
    "            next_state = int((balance / initial_balance) * 100) * 10 + int((data.iloc[i + 1] - data.iloc[i]) * 100)\n",
    "            next_state = max(0, min(next_state, num_states - 1))\n",
    "\n",
    "            # Q-learning update equation\n",
    "            q_values[state, action] = q_values[state, action] + learning_rate * (\n",
    "                reward + discount_factor * np.max(q_values[next_state, :]) - q_values[state, action]\n",
    "            )\n",
    "\n",
    "            # Track total reward for this episode\n",
    "            total_reward += reward\n",
    "\n",
    "        # Append the final portfolio value for this episode\n",
    "        portfolio_values.append(balance + shares * data.iloc[-1])\n",
    "\n",
    "    return portfolio_values, q_values"
   ]
  },
  {
   "cell_type": "code",
   "execution_count": 52,
   "id": "9a6e63fe",
   "metadata": {},
   "outputs": [],
   "source": [
    "# Set Q-learning parameters\n",
    "learning_rate = 0.1\n",
    "discount_factor = 0.9\n",
    "num_episodes = 500\n",
    "epsilon = 0.3"
   ]
  },
  {
   "cell_type": "code",
   "execution_count": 53,
   "id": "0c4c5cb8",
   "metadata": {},
   "outputs": [
    {
     "name": "stdout",
     "output_type": "stream",
     "text": [
      "[*********************100%***********************]  1 of 1 completed\n"
     ]
    }
   ],
   "source": [
    "# Fetch NIFTY50 data\n",
    "start_date = '2010-01-01'\n",
    "end_date = '2019-01-01'\n",
    "nifty50_data = get_nifty50_data(start_date, end_date)\n",
    "# Convert the Series to a DataFrame\n",
    "nifty50_data = pd.DataFrame(nifty50_data, columns=['Close'])"
   ]
  },
  {
   "cell_type": "code",
   "execution_count": 54,
   "id": "a4530f7e",
   "metadata": {},
   "outputs": [
    {
     "data": {
      "text/plain": [
       "<bound method NDFrame.head of                    Close\n",
       "Date                    \n",
       "2010-01-04   5232.200195\n",
       "2010-01-05   5277.899902\n",
       "2010-01-06   5281.799805\n",
       "2010-01-07   5263.100098\n",
       "2010-01-08   5244.750000\n",
       "...                  ...\n",
       "2018-12-24  10663.500000\n",
       "2018-12-26  10729.849609\n",
       "2018-12-27  10779.799805\n",
       "2018-12-28  10859.900391\n",
       "2018-12-31  10862.549805\n",
       "\n",
       "[2202 rows x 1 columns]>"
      ]
     },
     "execution_count": 54,
     "metadata": {},
     "output_type": "execute_result"
    }
   ],
   "source": [
    "nifty50_data.head"
   ]
  },
  {
   "cell_type": "code",
   "execution_count": 55,
   "id": "b5af90bc",
   "metadata": {},
   "outputs": [],
   "source": [
    "# Run Q-learning algorithm\n",
    "portfolio_values, _ = q_learning_nifty50(nifty50_data, num_episodes=num_episodes, epsilon=epsilon)"
   ]
  },
  {
   "cell_type": "code",
   "execution_count": 56,
   "id": "298e666a",
   "metadata": {},
   "outputs": [
    {
     "data": {
      "image/png": "[encoded data removed]",
      "text/plain": [
       "<Figure size 432x288 with 1 Axes>"
      ]
     },
     "metadata": {
      "needs_background": "light"
     },
     "output_type": "display_data"
    }
   ],
   "source": [
    "# Plot portfolio value over episodes\n",
    "plt.plot(range(1, num_episodes + 1), portfolio_values)\n",
    "plt.xlabel('Episode')\n",
    "plt.ylabel('Portfolio Value')\n",
    "plt.title('Portfolio Value over Episodes')\n",
    "plt.show()"
   ]
  }
 ],
 "metadata": {
  "kernelspec": {
   "display_name": "Python 3 (ipykernel)",
   "language": "python",
   "name": "python3"
  },
  "language_info": {
   "codemirror_mode": {
    "name": "ipython",
    "version": 3
   },
   "file_extension": ".py",
   "mimetype": "text/x-python",
   "name": "python",
   "nbconvert_exporter": "python",
   "pygments_lexer": "ipython3",
   "version": "3.9.12"
  }
 },
 "nbformat": 4,
 "nbformat_minor": 5
}
